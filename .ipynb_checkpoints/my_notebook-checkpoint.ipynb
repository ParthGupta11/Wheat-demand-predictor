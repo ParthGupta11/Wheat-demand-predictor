{
 "cells": [
  {
   "cell_type": "markdown",
   "metadata": {
    "id": "IRXrYEztwafH"
   },
   "source": [
    "#Data Driven Agriculture"
   ]
  },
  {
   "cell_type": "markdown",
   "metadata": {
    "id": "dA9CBoY5wwJ1"
   },
   "source": [
    "##Importing Libraries"
   ]
  },
  {
   "cell_type": "code",
   "execution_count": 1,
   "metadata": {
    "id": "egqg5sPWwi1V"
   },
   "outputs": [
    {
     "name": "stderr",
     "output_type": "stream",
     "text": [
      "Matplotlib is building the font cache; this may take a moment.\n"
     ]
    }
   ],
   "source": [
    "import numpy as np\n",
    "import matplotlib.pyplot as plt\n",
    "import pandas as pd"
   ]
  },
  {
   "cell_type": "markdown",
   "metadata": {
    "id": "5Bra_L0lw2kT"
   },
   "source": [
    "##Importing Dataset From csv File"
   ]
  },
  {
   "cell_type": "code",
   "execution_count": null,
   "metadata": {
    "id": "ALpMUsF0ke8B"
   },
   "outputs": [],
   "source": [
    "dataset = pd.read_csv(\"updated_final.csv\")\n",
    "x = dataset.iloc[:,:3]\n",
    "y = dataset.iloc[:,5]"
   ]
  },
  {
   "cell_type": "code",
   "execution_count": null,
   "metadata": {
    "colab": {
     "base_uri": "https://localhost:8080/"
    },
    "id": "PWh_THOMkifs",
    "outputId": "269ae051-8e2f-4142-efc9-dcaf60391192"
   },
   "outputs": [
    {
     "name": "stdout",
     "output_type": "stream",
     "text": [
      "    year  population  wheat_surplus\n",
      "0   2020  1380004385          8.090\n",
      "1   2019  1366417754          7.490\n",
      "2   2018  1352642280          4.240\n",
      "3   2017  1338676785          2.830\n",
      "4   2016  1324517249         -4.940\n",
      "..   ...         ...            ...\n",
      "56  1964   488848135         -6.676\n",
      "57  1963   478825608         -5.271\n",
      "58  1962   469077190         -2.744\n",
      "59  1961   459642165         -2.895\n",
      "60  1960   450547679         -3.900\n",
      "\n",
      "[61 rows x 3 columns]\n",
      "0     99.50\n",
      "1     96.11\n",
      "2     95.63\n",
      "3     95.68\n",
      "4     97.23\n",
      "      ...  \n",
      "56    16.53\n",
      "57    16.05\n",
      "58    14.82\n",
      "59    13.89\n",
      "60    14.22\n",
      "Name: wheat_demands, Length: 61, dtype: float64\n"
     ]
    }
   ],
   "source": [
    "print(x)\n",
    "print(y)"
   ]
  },
  {
   "cell_type": "markdown",
   "metadata": {
    "id": "Rx78ye16xILE"
   },
   "source": [
    "##Data Preprocessing"
   ]
  },
  {
   "cell_type": "markdown",
   "metadata": {
    "id": "KAnyTf7excLj"
   },
   "source": [
    "###Splitting data into training and testing sets"
   ]
  },
  {
   "cell_type": "code",
   "execution_count": null,
   "metadata": {
    "id": "T7R_th1wob8D"
   },
   "outputs": [],
   "source": [
    "from sklearn.model_selection import train_test_split\n",
    "x_train, x_test, y_train, y_test = train_test_split(x,y,test_size=0.2,random_state=0)"
   ]
  },
  {
   "cell_type": "code",
   "execution_count": null,
   "metadata": {
    "colab": {
     "base_uri": "https://localhost:8080/"
    },
    "id": "vCNmTig_5D-i",
    "outputId": "980058b9-0b99-4b7c-e284-f075f82182c0"
   },
   "outputs": [
    {
     "name": "stdout",
     "output_type": "stream",
     "text": [
      "    year  population  wheat_surplus\n",
      "26  1994   945601831          1.510\n",
      "35  1985   784360008          0.349\n",
      "60  1960   450547679         -3.900\n",
      "28  1992   909307016         -1.830\n",
      "11  2009  1217726215          2.530\n",
      "2   2018  1352642280          4.240\n",
      "34  1986   801975244          1.482\n",
      "59  1961   459642165         -2.895\n",
      "40  1980   698952844         -2.500\n",
      "22  1998  1019483581          2.640\n",
      "4   2016  1324517249         -4.940\n",
      "10  2010  1234281170         -0.960\n",
      "30  1990   873277798          2.250\n",
      "26    58.33\n",
      "35    43.72\n",
      "60    14.22\n",
      "28    57.52\n",
      "11    78.15\n",
      "2     95.63\n",
      "34    45.57\n",
      "59    13.89\n",
      "40    34.33\n",
      "22    63.71\n",
      "4     97.23\n",
      "10    81.76\n",
      "30    47.60\n",
      "Name: wheat_demands, dtype: float64\n"
     ]
    }
   ],
   "source": [
    "print(x_test)\n",
    "print(y_test)"
   ]
  },
  {
   "cell_type": "markdown",
   "metadata": {
    "id": "efsi5sHG0Lck"
   },
   "source": [
    "###Seperating data for result visualization"
   ]
  },
  {
   "cell_type": "code",
   "execution_count": null,
   "metadata": {
    "id": "PhcDQViJ0U7J"
   },
   "outputs": [],
   "source": [
    "x_visual = np.array(x_test)\n",
    "y_visual = np.array(y_test)"
   ]
  },
  {
   "cell_type": "markdown",
   "metadata": {
    "id": "_nWUUyQKxfG9"
   },
   "source": [
    "###Scaling the data"
   ]
  },
  {
   "cell_type": "code",
   "execution_count": null,
   "metadata": {
    "id": "BYEXm4xho-Rx"
   },
   "outputs": [],
   "source": [
    "from sklearn.preprocessing import StandardScaler\n",
    "sc = StandardScaler()\n",
    "x_train = sc.fit_transform(x_train)\n",
    "x_test = sc.transform(x_test)"
   ]
  },
  {
   "cell_type": "code",
   "execution_count": null,
   "metadata": {
    "id": "pQlUnTNf_sZj"
   },
   "outputs": [],
   "source": [
    "y_train = y_train.values.reshape(-1,1)\n",
    "y_test = y_test.values.reshape(-1,1)\n",
    "from sklearn.preprocessing import StandardScaler\n",
    "sc_y = StandardScaler()\n",
    "y_train = sc_y.fit_transform(y_train)\n",
    "y_test = sc_y.transform(y_test)"
   ]
  },
  {
   "cell_type": "markdown",
   "metadata": {
    "id": "TkVlNJqYx6iy"
   },
   "source": [
    "##Training the Model"
   ]
  },
  {
   "cell_type": "code",
   "execution_count": null,
   "metadata": {
    "colab": {
     "base_uri": "https://localhost:8080/"
    },
    "id": "fapwCi46BRHD",
    "outputId": "53acf5bb-bf68-4c03-f39d-7f13d81fc3e4"
   },
   "outputs": [
    {
     "name": "stderr",
     "output_type": "stream",
     "text": [
      "/usr/local/lib/python3.6/dist-packages/sklearn/utils/validation.py:760: DataConversionWarning: A column-vector y was passed when a 1d array was expected. Please change the shape of y to (n_samples, ), for example using ravel().\n",
      "  y = column_or_1d(y, warn=True)\n"
     ]
    },
    {
     "data": {
      "text/plain": [
       "SVR(C=1.0, cache_size=200, coef0=0.0, degree=3, epsilon=0.1, gamma='scale',\n",
       "    kernel='rbf', max_iter=-1, shrinking=True, tol=0.001, verbose=False)"
      ]
     },
     "execution_count": 10,
     "metadata": {
      "tags": []
     },
     "output_type": "execute_result"
    }
   ],
   "source": [
    "from sklearn.svm import SVR\n",
    "regressor = SVR(kernel = \"rbf\")\n",
    "regressor.fit(x_train,y_train)"
   ]
  },
  {
   "cell_type": "markdown",
   "metadata": {
    "id": "an86QNt_x-4r"
   },
   "source": [
    "##Testing the Model"
   ]
  },
  {
   "cell_type": "code",
   "execution_count": null,
   "metadata": {
    "colab": {
     "base_uri": "https://localhost:8080/"
    },
    "id": "hRgDG4OvBztf",
    "outputId": "22cabdbb-eeb0-4d10-af5f-47127bc7c4f1"
   },
   "outputs": [
    {
     "data": {
      "text/plain": [
       "array([59.50709583, 45.2225854 , 18.4822097 , 58.24832624, 82.91627328,\n",
       "       94.69388916, 46.69197911, 19.14298189, 36.70135791, 64.41040363,\n",
       "       77.93186623, 83.23103891, 52.7666193 ])"
      ]
     },
     "execution_count": 11,
     "metadata": {
      "tags": []
     },
     "output_type": "execute_result"
    }
   ],
   "source": [
    "sc_y.inverse_transform(regressor.predict(x_test))"
   ]
  },
  {
   "cell_type": "code",
   "execution_count": null,
   "metadata": {
    "colab": {
     "base_uri": "https://localhost:8080/"
    },
    "id": "k0FZPUHVCBsy",
    "outputId": "9e2dcf7e-6c3a-40c2-8afe-b3b5b030ed9a"
   },
   "outputs": [
    {
     "name": "stdout",
     "output_type": "stream",
     "text": [
      "[[58.33]\n",
      " [43.72]\n",
      " [14.22]\n",
      " [57.52]\n",
      " [78.15]\n",
      " [95.63]\n",
      " [45.57]\n",
      " [13.89]\n",
      " [34.33]\n",
      " [63.71]\n",
      " [97.23]\n",
      " [81.76]\n",
      " [47.6 ]]\n"
     ]
    }
   ],
   "source": [
    "print(sc_y.inverse_transform((y_test)))"
   ]
  },
  {
   "cell_type": "markdown",
   "metadata": {
    "id": "a7PeI1OP9Pbo"
   },
   "source": [
    "###Final Accuracy\n"
   ]
  },
  {
   "cell_type": "code",
   "execution_count": null,
   "metadata": {
    "colab": {
     "base_uri": "https://localhost:8080/"
    },
    "id": "UGh0RLe1HZnZ",
    "outputId": "ce98cc7a-8f1e-49df-f7a5-c85e2c990a39"
   },
   "outputs": [
    {
     "name": "stdout",
     "output_type": "stream",
     "text": [
      "94.5265427669295 %\n"
     ]
    }
   ],
   "source": [
    "from sklearn.metrics import r2_score\n",
    "acc = r2_score(sc_y.inverse_transform(y_test),sc_y.inverse_transform(regressor.predict(x_test)))\n",
    "print(acc*100,\"%\")"
   ]
  },
  {
   "cell_type": "markdown",
   "metadata": {
    "id": "uvWo6vaYyH_2"
   },
   "source": [
    "##Visualizing the results"
   ]
  },
  {
   "cell_type": "code",
   "execution_count": null,
   "metadata": {
    "id": "t335c5431LJF"
   },
   "outputs": [],
   "source": [
    "year = x_visual[:, 0]"
   ]
  },
  {
   "cell_type": "code",
   "execution_count": null,
   "metadata": {
    "colab": {
     "base_uri": "https://localhost:8080/",
     "height": 295
    },
    "id": "65gX171DyY5t",
    "outputId": "f97c473c-f8a3-4bb7-9c56-88252637c871"
   },
   "outputs": [
    {
     "data": {
      "image/png": "[encoded data removed]",
      "text/plain": [
       "<Figure size 432x288 with 1 Axes>"
      ]
     },
     "metadata": {
      "needs_background": "light",
      "tags": []
     },
     "output_type": "display_data"
    }
   ],
   "source": [
    "plt.scatter(year, y_visual)\n",
    "plt.scatter(year, sc_y.inverse_transform(regressor.predict(x_test)))\n",
    "plt.xlabel(\"Population\")\n",
    "plt.ylabel(\"Market Demands\")\n",
    "plt.title(\"Population vs Market Demands\")\n",
    "plt.legend([\"Real values\", \"Predictions\"])\n",
    "plt.show()"
   ]
  }
 ],
 "metadata": {
  "colab": {
   "collapsed_sections": [],
   "name": "Untitled13.ipynb",
   "provenance": [],
   "toc_visible": true
  },
  "kernelspec": {
   "display_name": "Python 3",
   "language": "python",
   "name": "python3"
  },
  "language_info": {
   "codemirror_mode": {
    "name": "ipython",
    "version": 3
   },
   "file_extension": ".py",
   "mimetype": "text/x-python",
   "name": "python",
   "nbconvert_exporter": "python",
   "pygments_lexer": "ipython3",
   "version": "3.8.5"
  }
 },
 "nbformat": 4,
 "nbformat_minor": 1
}
